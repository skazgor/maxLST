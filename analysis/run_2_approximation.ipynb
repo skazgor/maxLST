{
 "cells": [
  {
   "cell_type": "code",
   "execution_count": 1,
   "metadata": {},
   "outputs": [],
   "source": [
    "import os\n",
    "import re\n",
    "program = \"./2_appx\""
   ]
  },
  {
   "cell_type": "code",
   "execution_count": 2,
   "metadata": {},
   "outputs": [
    {
     "name": "stdout",
     "output_type": "stream",
     "text": [
      "algorithm,file_name,number_of_nodes,number_of_leaf_nodes,time_taken\n",
      "2_Approximation,random_graph_1.txt,10,5,0.0\n",
      "2_Approximation,random_graph_2.txt,11,6,0.0\n",
      "2_Approximation,random_graph_3.txt,12,5,0.0\n",
      "2_Approximation,random_graph_4.txt,13,7,0.0\n",
      "2_Approximation,random_graph_5.txt,14,7,0.0\n",
      "2_Approximation,random_graph_6.txt,15,9,0.0\n",
      "2_Approximation,random_graph_7.txt,16,9,0.0\n",
      "2_Approximation,random_graph_8.txt,17,9,0.0\n",
      "2_Approximation,random_graph_9.txt,18,9,0.0\n",
      "2_Approximation,random_graph_10.txt,19,8,0.0\n",
      "2_Approximation,random_graph_11.txt,20,10,0.0\n",
      "2_Approximation,random_graph_12.txt,21,12,0.0\n",
      "2_Approximation,random_graph_13.txt,22,10,0.0\n",
      "2_Approximation,random_graph_14.txt,23,12,0.0\n",
      "2_Approximation,random_graph_15.txt,24,12,0.0\n",
      "2_Approximation,random_graph_16.txt,25,15,0.0\n",
      "2_Approximation,random_graph_17.txt,26,16,0.0\n",
      "2_Approximation,random_graph_18.txt,27,13,0.0\n",
      "2_Approximation,random_graph_19.txt,28,17,0.0\n",
      "2_Approximation,random_graph_20.txt,29,14,0.0\n",
      "2_Approximation,random_graph_21.txt,30,16,0.0\n",
      "2_Approximation,random_graph_22.txt,31,16,0.0\n",
      "2_Approximation,random_graph_23.txt,32,19,0.0\n",
      "2_Approximation,random_graph_24.txt,33,21,0.0\n",
      "2_Approximation,random_graph_25.txt,34,20,0.0\n",
      "2_Approximation,random_graph_26.txt,35,19,0.0\n",
      "2_Approximation,random_graph_27.txt,36,22,0.0\n",
      "2_Approximation,random_graph_28.txt,37,24,0.0\n",
      "2_Approximation,random_graph_29.txt,38,21,0.0\n",
      "2_Approximation,random_graph_30.txt,39,27,0.0\n",
      "2_Approximation,random_graph_31.txt,40,25,0.0\n"
     ]
    }
   ],
   "source": [
    "print('algorithm,file_name,number_of_nodes,number_of_leaf_nodes,time_taken')\n",
    "algorithm = '2_Approximation'\n",
    "\n",
    "for i in range(1,32):\n",
    "    file_path = f\"random_graph_{i}.txt\"\n",
    "    command = f\"{program} < {file_path}\"\n",
    "    output = os.popen(command).read()\n",
    "\n",
    "    time_taken_match = re.search(r\"Time taken: (\\d+) milliseconds\", output)\n",
    "    leaf_count_match = re.search(r\"Leaf count: (\\d+)\", output)\n",
    "\n",
    "    time_taken = int(time_taken_match.group(1)) if time_taken_match else None\n",
    "    leaf_count = int(leaf_count_match.group(1)) if leaf_count_match else None\n",
    "\n",
    "\n",
    "    with open(file_path, 'r') as file:\n",
    "        first_line = file.readline()\n",
    "        number_of_nodes = int(first_line.split()[0])\n",
    "    \n",
    "\n",
    "    print(f'{algorithm},{file_path},{number_of_nodes},{leaf_count},{time_taken/1000}')"
   ]
  },
  {
   "cell_type": "code",
   "execution_count": null,
   "metadata": {},
   "outputs": [],
   "source": []
  }
 ],
 "metadata": {
  "kernelspec": {
   "display_name": "Python 3",
   "language": "python",
   "name": "python3"
  },
  "language_info": {
   "codemirror_mode": {
    "name": "ipython",
    "version": 3
   },
   "file_extension": ".py",
   "mimetype": "text/x-python",
   "name": "python",
   "nbconvert_exporter": "python",
   "pygments_lexer": "ipython3",
   "version": "3.10.12"
  }
 },
 "nbformat": 4,
 "nbformat_minor": 2
}
