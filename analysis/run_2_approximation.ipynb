{
 "cells": [
  {
   "cell_type": "code",
   "execution_count": 8,
   "metadata": {},
   "outputs": [],
   "source": [
    "import os\n",
    "import re\n",
    "program = \"./2_appx\""
   ]
  },
  {
   "cell_type": "code",
   "execution_count": 9,
   "metadata": {},
   "outputs": [
    {
     "name": "stdout",
     "output_type": "stream",
     "text": [
      "algorithm,file_name,number_of_nodes,number_of_leaf_nodes,time_taken\n",
      "2_Approximation,random_graph_1.txt,10,5,0.0\n",
      "2_Approximation,random_graph_2.txt,14,8,0.0\n",
      "2_Approximation,random_graph_3.txt,18,8,0.0\n",
      "2_Approximation,random_graph_4.txt,22,11,0.0\n",
      "2_Approximation,random_graph_5.txt,26,13,0.0\n",
      "2_Approximation,random_graph_6.txt,30,18,0.0\n",
      "2_Approximation,random_graph_7.txt,34,21,0.0\n",
      "2_Approximation,random_graph_8.txt,38,24,0.0\n",
      "2_Approximation,random_graph_9.txt,42,27,0.0\n",
      "2_Approximation,random_graph_10.txt,46,28,0.0\n"
     ]
    }
   ],
   "source": [
    "print('algorithm,file_name,number_of_nodes,number_of_leaf_nodes,time_taken')\n",
    "algorithm = '2_Approximation'\n",
    "\n",
    "for i in range(1,11):\n",
    "    file_path = f\"random_graph_{i}.txt\"\n",
    "    command = f\"{program} < {file_path}\"\n",
    "    output = os.popen(command).read()\n",
    "\n",
    "    time_taken_match = re.search(r\"Time taken: (\\d+) milliseconds\", output)\n",
    "    leaf_count_match = re.search(r\"Leaf count: (\\d+)\", output)\n",
    "\n",
    "    time_taken = int(time_taken_match.group(1)) if time_taken_match else None\n",
    "    leaf_count = int(leaf_count_match.group(1)) if leaf_count_match else None\n",
    "\n",
    "\n",
    "    with open(file_path, 'r') as file:\n",
    "        first_line = file.readline()\n",
    "        number_of_nodes = int(first_line.split()[0])\n",
    "    \n",
    "\n",
    "    print(f'{algorithm},{file_path},{number_of_nodes},{leaf_count},{time_taken/1000}')"
   ]
  },
  {
   "cell_type": "code",
   "execution_count": null,
   "metadata": {},
   "outputs": [],
   "source": []
  }
 ],
 "metadata": {
  "kernelspec": {
   "display_name": "Python 3",
   "language": "python",
   "name": "python3"
  },
  "language_info": {
   "codemirror_mode": {
    "name": "ipython",
    "version": 3
   },
   "file_extension": ".py",
   "mimetype": "text/x-python",
   "name": "python",
   "nbconvert_exporter": "python",
   "pygments_lexer": "ipython3",
   "version": "3.10.12"
  }
 },
 "nbformat": 4,
 "nbformat_minor": 2
}
