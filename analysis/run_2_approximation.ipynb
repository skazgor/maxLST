{
 "cells": [
  {
   "cell_type": "code",
   "execution_count": 3,
   "metadata": {},
   "outputs": [],
   "source": [
    "import os\n",
    "import re\n",
    "program = \"./2_appx\""
   ]
  },
  {
   "cell_type": "code",
   "execution_count": 4,
   "metadata": {},
   "outputs": [
    {
     "name": "stdout",
     "output_type": "stream",
     "text": [
      "algorithm,file_name,number_of_nodes,number_of_leaf_nodes,time_taken\n",
      "2_Approximation,complete_grid_graph_1.txt,10,5,0.0\n",
      "2_Approximation,complete_grid_graph_2.txt,20,10,0.0\n",
      "2_Approximation,complete_grid_graph_3.txt,30,16,0.0\n",
      "2_Approximation,complete_grid_graph_4.txt,40,22,0.0\n",
      "2_Approximation,complete_grid_graph_5.txt,50,28,0.0\n",
      "2_Approximation,complete_grid_graph_6.txt,60,34,0.0\n",
      "2_Approximation,complete_grid_graph_7.txt,70,40,0.0\n",
      "2_Approximation,complete_grid_graph_8.txt,80,46,0.0\n",
      "2_Approximation,complete_grid_graph_9.txt,90,52,0.0\n",
      "2_Approximation,complete_grid_graph_10.txt,100,58,0.0\n",
      "2_Approximation,incomplete_grid_graph_1.txt,10,3,0.0\n",
      "2_Approximation,incomplete_grid_graph_2.txt,20,8,0.0\n",
      "2_Approximation,incomplete_grid_graph_3.txt,30,15,0.0\n",
      "2_Approximation,incomplete_grid_graph_4.txt,40,17,0.0\n",
      "2_Approximation,incomplete_grid_graph_5.txt,50,20,0.0\n",
      "2_Approximation,incomplete_grid_graph_6.txt,60,27,0.0\n",
      "2_Approximation,incomplete_grid_graph_7.txt,70,29,0.0\n",
      "2_Approximation,incomplete_grid_graph_8.txt,80,38,0.0\n",
      "2_Approximation,incomplete_grid_graph_9.txt,90,41,0.0\n",
      "2_Approximation,incomplete_grid_graph_10.txt,100,41,0.0\n",
      "2_Approximation,random_d_regular_graph_1.txt,10,5,0.0\n",
      "2_Approximation,random_d_regular_graph_2.txt,20,10,0.0\n",
      "2_Approximation,random_d_regular_graph_3.txt,30,14,0.0\n",
      "2_Approximation,random_d_regular_graph_4.txt,40,19,0.0\n",
      "2_Approximation,random_d_regular_graph_5.txt,50,23,0.0\n",
      "2_Approximation,random_d_regular_graph_6.txt,60,28,0.0\n",
      "2_Approximation,random_d_regular_graph_7.txt,70,34,0.0\n",
      "2_Approximation,random_d_regular_graph_8.txt,80,38,0.0\n",
      "2_Approximation,random_d_regular_graph_9.txt,90,42,0.0\n",
      "2_Approximation,random_d_regular_graph_10.txt,100,47,0.0\n",
      "2_Approximation,random_graph_1.txt,10,5,0.0\n",
      "2_Approximation,random_graph_2.txt,20,13,0.0\n",
      "2_Approximation,random_graph_3.txt,30,20,0.0\n",
      "2_Approximation,random_graph_4.txt,40,22,0.0\n",
      "2_Approximation,random_graph_5.txt,50,36,0.0\n",
      "2_Approximation,random_graph_6.txt,60,44,0.0\n",
      "2_Approximation,random_graph_7.txt,70,51,0.0\n",
      "2_Approximation,random_graph_8.txt,80,58,0.0\n",
      "2_Approximation,random_graph_9.txt,90,69,0.0\n",
      "2_Approximation,random_graph_10.txt,100,78,0.0\n",
      "2_Approximation,scale_free_graph_1.txt,100,70,0.0\n",
      "2_Approximation,scale_free_graph_2.txt,100,71,0.0\n",
      "2_Approximation,scale_free_graph_3.txt,100,73,0.0\n",
      "2_Approximation,scale_free_graph_4.txt,100,72,0.0\n",
      "2_Approximation,scale_free_graph_5.txt,100,68,0.0\n",
      "2_Approximation,scale_free_graph_6.txt,100,66,0.0\n",
      "2_Approximation,scale_free_graph_7.txt,100,73,0.0\n",
      "2_Approximation,scale_free_graph_8.txt,100,76,0.0\n",
      "2_Approximation,scale_free_graph_9.txt,100,70,0.0\n",
      "2_Approximation,scale_free_graph_10.txt,100,75,0.0\n"
     ]
    }
   ],
   "source": [
    "print('algorithm,file_name,number_of_nodes,number_of_leaf_nodes,time_taken')\n",
    "algorithm = '2_Approximation'\n",
    "\n",
    "for file_prefix in ['complete_grid_graph_', 'incomplete_grid_graph_', 'random_d_regular_graph_', 'random_graph_', 'scale_free_graph_']:\n",
    "    for i in range(1,11):\n",
    "        file_path = f\"{file_prefix}{i}.txt\"\n",
    "        command = f\"{program} < {file_path}\"\n",
    "        output = os.popen(command).read()\n",
    "\n",
    "        time_taken_match = re.search(r\"Time taken: (\\d+) milliseconds\", output)\n",
    "        leaf_count_match = re.search(r\"Leaf count: (\\d+)\", output)\n",
    "\n",
    "        time_taken = int(time_taken_match.group(1)) if time_taken_match else None\n",
    "        leaf_count = int(leaf_count_match.group(1)) if leaf_count_match else None\n",
    "\n",
    "\n",
    "        with open(file_path, 'r') as file:\n",
    "            first_line = file.readline()\n",
    "            number_of_nodes = int(first_line.split()[0])\n",
    "        \n",
    "\n",
    "        print(f'{algorithm},{file_path},{number_of_nodes},{leaf_count},{time_taken/1000}')"
   ]
  },
  {
   "cell_type": "code",
   "execution_count": null,
   "metadata": {},
   "outputs": [],
   "source": []
  }
 ],
 "metadata": {
  "kernelspec": {
   "display_name": "Python 3",
   "language": "python",
   "name": "python3"
  },
  "language_info": {
   "codemirror_mode": {
    "name": "ipython",
    "version": 3
   },
   "file_extension": ".py",
   "mimetype": "text/x-python",
   "name": "python",
   "nbconvert_exporter": "python",
   "pygments_lexer": "ipython3",
   "version": "3.10.12"
  }
 },
 "nbformat": 4,
 "nbformat_minor": 2
}
