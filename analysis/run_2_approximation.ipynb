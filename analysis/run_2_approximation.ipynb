{
 "cells": [
  {
   "cell_type": "code",
   "execution_count": 3,
   "metadata": {},
   "outputs": [],
   "source": [
    "import os\n",
    "import re\n",
    "program = \"./2_appx\""
   ]
  },
  {
   "cell_type": "code",
   "execution_count": 5,
   "metadata": {},
   "outputs": [
    {
     "name": "stdout",
     "output_type": "stream",
     "text": [
      "algorithm,file_name,number_of_nodes,number_of_leaf_nodes,time_taken\n",
      "2_Approximation,random_graph_1.txt,100,78,0.0\n",
      "2_Approximation,random_graph_2.txt,600,561,0.0\n",
      "2_Approximation,random_graph_3.txt,1100,1053,0.002\n",
      "2_Approximation,random_graph_4.txt,1600,1554,0.003\n",
      "2_Approximation,random_graph_5.txt,2100,2047,0.002\n",
      "2_Approximation,random_graph_6.txt,2600,2545,0.004\n",
      "2_Approximation,random_graph_7.txt,3100,3050,0.006\n",
      "2_Approximation,random_graph_8.txt,3600,3541,0.008\n",
      "2_Approximation,random_graph_9.txt,4100,4040,0.01\n",
      "2_Approximation,random_graph_10.txt,4600,4542,0.012\n",
      "2_Approximation,random_graph_11.txt,6000,5939,0.021\n",
      "2_Approximation,random_graph_12.txt,7000,6935,0.027\n",
      "2_Approximation,random_graph_13.txt,8000,7935,0.037\n",
      "2_Approximation,random_graph_14.txt,9000,8933,0.045\n",
      "2_Approximation,random_graph_15.txt,10000,9934,0.056\n"
     ]
    }
   ],
   "source": [
    "print('algorithm,file_name,number_of_nodes,number_of_leaf_nodes,time_taken')\n",
    "algorithm = '2_Approximation'\n",
    "\n",
    "for i in range(1,16):\n",
    "    file_path = f\"random_graph_{i}.txt\"\n",
    "    command = f\"{program} < {file_path}\"\n",
    "    output = os.popen(command).read()\n",
    "\n",
    "    time_taken_match = re.search(r\"Time taken: (\\d+) milliseconds\", output)\n",
    "    leaf_count_match = re.search(r\"Leaf count: (\\d+)\", output)\n",
    "\n",
    "    time_taken = int(time_taken_match.group(1)) if time_taken_match else None\n",
    "    leaf_count = int(leaf_count_match.group(1)) if leaf_count_match else None\n",
    "\n",
    "\n",
    "    with open(file_path, 'r') as file:\n",
    "        first_line = file.readline()\n",
    "        number_of_nodes = int(first_line.split()[0])\n",
    "    \n",
    "\n",
    "    print(f'{algorithm},{file_path},{number_of_nodes},{leaf_count},{time_taken/1000}')"
   ]
  },
  {
   "cell_type": "code",
   "execution_count": null,
   "metadata": {},
   "outputs": [],
   "source": []
  }
 ],
 "metadata": {
  "kernelspec": {
   "display_name": "Python 3",
   "language": "python",
   "name": "python3"
  },
  "language_info": {
   "codemirror_mode": {
    "name": "ipython",
    "version": 3
   },
   "file_extension": ".py",
   "mimetype": "text/x-python",
   "name": "python",
   "nbconvert_exporter": "python",
   "pygments_lexer": "ipython3",
   "version": "3.10.12"
  }
 },
 "nbformat": 4,
 "nbformat_minor": 2
}
