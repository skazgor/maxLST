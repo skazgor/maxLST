{
 "cells": [
  {
   "cell_type": "code",
   "execution_count": 3,
   "metadata": {},
   "outputs": [],
   "source": [
    "import os\n",
    "import re\n",
    "program = \"./exact_exponential\""
   ]
  },
  {
   "cell_type": "code",
   "execution_count": 5,
   "metadata": {},
   "outputs": [
    {
     "name": "stdout",
     "output_type": "stream",
     "text": [
      "algorithm,file_name,number_of_nodes,number_of_leaf_nodes,time_taken\n",
      "exact_exponential,random_graph_1.txt,10,6,0.001\n",
      "exact_exponential,random_graph_2.txt,11,6,0.002\n",
      "exact_exponential,random_graph_3.txt,12,5,0.001\n",
      "exact_exponential,random_graph_4.txt,13,7,0.005\n",
      "exact_exponential,random_graph_5.txt,14,9,0.011\n",
      "exact_exponential,random_graph_6.txt,15,9,0.005\n",
      "exact_exponential,random_graph_7.txt,16,9,0.021\n",
      "exact_exponential,random_graph_8.txt,17,9,0.012\n",
      "exact_exponential,random_graph_9.txt,18,9,0.014\n",
      "exact_exponential,random_graph_10.txt,19,8,0.016\n",
      "exact_exponential,random_graph_11.txt,20,10,0.003\n",
      "exact_exponential,random_graph_12.txt,21,12,0.115\n",
      "exact_exponential,random_graph_13.txt,22,10,0.008\n",
      "exact_exponential,random_graph_14.txt,23,14,0.214\n",
      "exact_exponential,random_graph_15.txt,24,13,0.016\n",
      "exact_exponential,random_graph_16.txt,25,16,0.018\n",
      "exact_exponential,random_graph_17.txt,26,17,0.241\n",
      "exact_exponential,random_graph_18.txt,27,13,0.051\n",
      "exact_exponential,random_graph_19.txt,28,18,2.704\n",
      "exact_exponential,random_graph_20.txt,29,14,0.037\n",
      "exact_exponential,random_graph_21.txt,30,17,0.596\n",
      "exact_exponential,random_graph_22.txt,31,20,0.463\n",
      "exact_exponential,random_graph_23.txt,32,19,0.174\n",
      "exact_exponential,random_graph_24.txt,33,22,17.534\n"
     ]
    },
    {
     "ename": "KeyboardInterrupt",
     "evalue": "",
     "output_type": "error",
     "traceback": [
      "\u001b[0;31m---------------------------------------------------------------------------\u001b[0m",
      "\u001b[0;31mKeyboardInterrupt\u001b[0m                         Traceback (most recent call last)",
      "Cell \u001b[0;32mIn[5], line 7\u001b[0m\n\u001b[1;32m      5\u001b[0m file_path \u001b[38;5;241m=\u001b[39m \u001b[38;5;124mf\u001b[39m\u001b[38;5;124m\"\u001b[39m\u001b[38;5;124mrandom_graph_\u001b[39m\u001b[38;5;132;01m{\u001b[39;00mi\u001b[38;5;132;01m}\u001b[39;00m\u001b[38;5;124m.txt\u001b[39m\u001b[38;5;124m\"\u001b[39m\n\u001b[1;32m      6\u001b[0m command \u001b[38;5;241m=\u001b[39m \u001b[38;5;124mf\u001b[39m\u001b[38;5;124m\"\u001b[39m\u001b[38;5;132;01m{\u001b[39;00mprogram\u001b[38;5;132;01m}\u001b[39;00m\u001b[38;5;124m < \u001b[39m\u001b[38;5;132;01m{\u001b[39;00mfile_path\u001b[38;5;132;01m}\u001b[39;00m\u001b[38;5;124m\"\u001b[39m\n\u001b[0;32m----> 7\u001b[0m output \u001b[38;5;241m=\u001b[39m \u001b[43mos\u001b[49m\u001b[38;5;241;43m.\u001b[39;49m\u001b[43mpopen\u001b[49m\u001b[43m(\u001b[49m\u001b[43mcommand\u001b[49m\u001b[43m)\u001b[49m\u001b[38;5;241;43m.\u001b[39;49m\u001b[43mread\u001b[49m\u001b[43m(\u001b[49m\u001b[43m)\u001b[49m\n\u001b[1;32m      9\u001b[0m time_taken_match \u001b[38;5;241m=\u001b[39m re\u001b[38;5;241m.\u001b[39msearch(\u001b[38;5;124mr\u001b[39m\u001b[38;5;124m\"\u001b[39m\u001b[38;5;124mTime taken: (\u001b[39m\u001b[38;5;124m\\\u001b[39m\u001b[38;5;124md+) milliseconds\u001b[39m\u001b[38;5;124m\"\u001b[39m, output)\n\u001b[1;32m     10\u001b[0m leaf_count_match \u001b[38;5;241m=\u001b[39m re\u001b[38;5;241m.\u001b[39msearch(\u001b[38;5;124mr\u001b[39m\u001b[38;5;124m\"\u001b[39m\u001b[38;5;124mLeaf count: (\u001b[39m\u001b[38;5;124m\\\u001b[39m\u001b[38;5;124md+)\u001b[39m\u001b[38;5;124m\"\u001b[39m, output)\n",
      "\u001b[0;31mKeyboardInterrupt\u001b[0m: "
     ]
    }
   ],
   "source": [
    "print('algorithm,file_name,number_of_nodes,number_of_leaf_nodes,time_taken')\n",
    "algorithm = 'exact_exponential'\n",
    "\n",
    "for i in range(1,33):\n",
    "    file_path = f\"random_graph_{i}.txt\"\n",
    "    command = f\"{program} < {file_path}\"\n",
    "    output = os.popen(command).read()\n",
    "\n",
    "    time_taken_match = re.search(r\"Time taken: (\\d+) milliseconds\", output)\n",
    "    leaf_count_match = re.search(r\"Leaf count: (\\d+)\", output)\n",
    "\n",
    "    time_taken = int(time_taken_match.group(1)) if time_taken_match else None\n",
    "    leaf_count = int(leaf_count_match.group(1)) if leaf_count_match else None\n",
    "\n",
    "\n",
    "    with open(file_path, 'r') as file:\n",
    "        first_line = file.readline()\n",
    "        number_of_nodes = int(first_line.split()[0])\n",
    "    \n",
    "\n",
    "    print(f'{algorithm},{file_path},{number_of_nodes},{leaf_count},{time_taken/1000}')"
   ]
  },
  {
   "cell_type": "code",
   "execution_count": null,
   "metadata": {},
   "outputs": [],
   "source": []
  }
 ],
 "metadata": {
  "kernelspec": {
   "display_name": "Python 3",
   "language": "python",
   "name": "python3"
  },
  "language_info": {
   "codemirror_mode": {
    "name": "ipython",
    "version": 3
   },
   "file_extension": ".py",
   "mimetype": "text/x-python",
   "name": "python",
   "nbconvert_exporter": "python",
   "pygments_lexer": "ipython3",
   "version": "3.10.12"
  }
 },
 "nbformat": 4,
 "nbformat_minor": 2
}
